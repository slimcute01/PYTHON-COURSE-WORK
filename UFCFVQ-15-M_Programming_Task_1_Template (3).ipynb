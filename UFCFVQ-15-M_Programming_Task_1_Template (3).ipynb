{
 "cells": [
  {
   "cell_type": "markdown",
   "metadata": {},
   "source": [
    "# UFCFVQ-15-M Programming for Data Science (Autumn 2021)\n",
    "# Programming Task 1\n",
    "\n",
    "## Student Id: 21062837"
   ]
  },
  {
   "cell_type": "markdown",
   "metadata": {
    "deletable": false
   },
   "source": [
    "<p style=\"color:red; font-weight:bold; font-size:xx-small\">OVERALL COURSEWORK MARK: 87%</p>\n",
    "<p style=\"color:red; font-weight:bold; font-size:xx-small\">GitLab Comments: 100%</p>"
   ]
  },
  {
   "cell_type": "markdown",
   "metadata": {
    "deletable": false
   },
   "source": [
    "### Requirement FR1 - Develop a function to find the arithmetic mean"
   ]
  },
  {
   "cell_type": "code",
   "execution_count": 1,
   "metadata": {},
   "outputs": [
    {
     "name": "stdout",
     "output_type": "stream",
     "text": [
      "The mean value is = 15.333333333333334\n"
     ]
    }
   ],
   "source": [
    "# Put set of numbers into a list\n",
    "number_list = [6, 2, 22, 21, 24, 23, 8, 9, 5, 3, 11, 28, 14, 13, 12, 26, 29, 16, 15, 20, 25, 1, 10, 18, 27, 19, 7]\n",
    "\n",
    "# defined a function mean\n",
    "def mean(number_list):\n",
    "    \n",
    "    mean = sum(number_list)/len(number_list) # Use the sum and len to get avg\n",
    "    return(mean)\n",
    "\n",
    "# print the desired result\n",
    "print ('The mean value is =', mean(number_list))"
   ]
  },
  {
   "cell_type": "markdown",
   "metadata": {
    "deletable": false
   },
   "source": [
    "<p style=\"color:red; font-weight:bold; font-size:xx-small\">MARK: 100%</p>\n",
    "<p style=\"color:red; font-weight:bold; font-size:xx-small\">FEEDBACK: Good solution</p>"
   ]
  },
  {
   "cell_type": "markdown",
   "metadata": {
    "deletable": false
   },
   "source": [
    "### Requirement FR2 - Develop a function to find the standard deviation"
   ]
  },
  {
   "cell_type": "code",
   "execution_count": 2,
   "metadata": {},
   "outputs": [
    {
     "name": "stdout",
     "output_type": "stream",
     "text": [
      "The standard deviation is = 8.393118874676114\n"
     ]
    }
   ],
   "source": [
    "# put given numbers into a list\n",
    "number_list = [6, 2, 22, 21, 24, 23, 8, 9, 5, 3, 11, 28, 14, 13, 12, 26, 29, 16, 15, 20, 25, 1, 10, 18, 27, 19, 7]\n",
    "\n",
    "# define a variance function\n",
    "def variance(number_list):\n",
    "    mean = sum(number_list)/ len(number_list) # use sum and len inbuilt function\n",
    "    return sum((x - mean)**2 for x in number_list)/ len(number_list) \n",
    "       \n",
    "# define second function calculating standard deviation using the first function \n",
    "def std_dev(number_list):\n",
    "    return variance(number_list)**0.5\n",
    "\n",
    "# print the desired output\n",
    "print('The standard deviation is =', std_dev(number_list))"
   ]
  },
  {
   "cell_type": "markdown",
   "metadata": {
    "deletable": false
   },
   "source": [
    "<p style=\"color:red; font-weight:bold; font-size:xx-small\">MARK: 100%</p>\n",
    "<p style=\"color:red; font-weight:bold; font-size:xx-small\">FEEDBACK: Good solution, although you were also asked to explain which stadard deviation approach you used. Marks have not been deducted for this but you must read the specification very carefully to ensure all elements are included in your submission.</p>"
   ]
  },
  {
   "cell_type": "markdown",
   "metadata": {
    "deletable": false
   },
   "source": [
    "### Requirement FR3 - Develop a function to find the min/max values and count "
   ]
  },
  {
   "cell_type": "code",
   "execution_count": 3,
   "metadata": {},
   "outputs": [
    {
     "name": "stdout",
     "output_type": "stream",
     "text": [
      "The Maximum Value is = 29 The Minimum Value is = 1 and The Count is = 27\n"
     ]
    }
   ],
   "source": [
    "# put given numbers into a list\n",
    "number_list = [6, 2, 22, 21, 24, 23, 8, 9, 5, 3, 11, 28, 14, 13, 12, 26, 29, 16, 15, 20, 25, 1, 10, 18, 27, 19, 7]\n",
    "\n",
    "# define first function to calculate maximum value\n",
    "def max_value(number_list): \n",
    "    max_value = max(number_list) # use the max inbuilt function\n",
    "    return max(number_list)\n",
    "\n",
    "# define second function to calculate minumum value\n",
    "def min_value(number_list):\n",
    "    min_value = min(number_list) # use the min inbuilt function\n",
    "    return min(number_list)\n",
    "\n",
    "# define third function to count the values\n",
    "def count(number_list):\n",
    "    count_values = len(number_list) # use the len inbuilt function\n",
    "    return len(number_list)\n",
    "\n",
    "#print desired output\n",
    "print('The Maximum Value is =',max_value(number_list), 'The Minimum Value is =',min_value(number_list), 'and The Count is =',count(number_list))"
   ]
  },
  {
   "cell_type": "markdown",
   "metadata": {
    "deletable": false
   },
   "source": [
    "<p style=\"color:red; font-weight:bold; font-size:xx-small\">MARK: 50%</p>\n",
    "<p style=\"color:red; font-weight:bold; font-size:xx-small\">FEEDBACK: Although you have ysed the appropriate functions for this, you were asked to develop a single function that returns all three values NOT three separate functions.</p>"
   ]
  },
  {
   "cell_type": "markdown",
   "metadata": {
    "deletable": false
   },
   "source": [
    "### Requirement FR4 - Develop a function to find the 25th, 50th and 75th percentiles "
   ]
  },
  {
   "cell_type": "code",
   "execution_count": 4,
   "metadata": {},
   "outputs": [
    {
     "name": "stdout",
     "output_type": "stream",
     "text": [
      "The 25th, 50th and 75th percentile values are: [8, 15, 22] respectively.\n"
     ]
    }
   ],
   "source": [
    "# put given number into a list \n",
    "number_list = [6, 2, 22, 21, 24, 23, 8, 9, 5, 3, 11, 28, 14, 13, 12, 26, 29, 16, 15, 20, 25, 1, 10, 18, 27, 19, 7]\n",
    "percentile = [25, 50, 75] # put percentiles into a list\n",
    "\n",
    "# define a function that takes in the list and percentile\n",
    "def percentile_score(number_list, percentile):\n",
    "    number_list.sort()\n",
    "    ps = (percentile/100) * len(number_list)\n",
    "    \n",
    "    # round up resulting variables\n",
    "    if ps.is_integer():\n",
    "        return (number_list)[int(ps)]\n",
    "    else:\n",
    "        return (number_list)[int(round(ps))-1]\n",
    "    \n",
    "# build a list to take in percentile index and evaluates it through our function \n",
    "percentile_function = [percentile_score(number_list, x) for x in percentile]\n",
    "\n",
    "# print the desired result\n",
    "print ('The 25th, 50th and 75th percentile values are:', percentile_function, 'respectively.')"
   ]
  },
  {
   "cell_type": "markdown",
   "metadata": {
    "deletable": false
   },
   "source": [
    "<p style=\"color:red; font-weight:bold; font-size:xx-small\">MARK: 40%</p>\n",
    "<p style=\"color:red; font-weight:bold; font-size:xx-small\">FEEDBACK: Again, you have deviated from the requirement, i.e. one function that returns all three percentiles. In addition, you were asked to explain which intepolation method you used. This time you will lose marks for having failed to do this.</p>"
   ]
  },
  {
   "cell_type": "markdown",
   "metadata": {
    "deletable": false
   },
   "source": [
    "### Requirement FR5 - Develop a function to read a single column from a CSV file"
   ]
  },
  {
   "cell_type": "code",
   "execution_count": 1,
   "metadata": {},
   "outputs": [
    {
     "name": "stdout",
     "output_type": "stream",
     "text": [
      "('Wind', ['0.01', '1.412699784', '16.266484', '5.900014713', '0.0822', '0.005086066', '0.117978175', '7.468573702', '48.47990705', '1.378292235', '0.977082975', '32.17005152', '3.688710149', '366', '0.043437355', '1.379085419', '0.22061', '0.6093', '13.89880328', '0.080257771', '2.438966811', '0.633888557', '0.531134615', '5.857', '28.16738103', '111.59', '6.300269103', '0.000825', '0.608', '0.004365699', '60.31116', '0.198', '0.361973742', '0', '8.390989769', '0.105269485', '17.47251773', '6.789652', '0.5412648', '0.017452186', '0.123287671', '1.145', '0.307147387', '0.097338', '0', '12.62920683', '3.8407', '10.549225', '2.046003874', '3.875881', '0', '0.497064956', '0.0079', '1.428156269', '0.574940541', '0.453', '4.80031359', '0', '1.72268087', '1.493633864', '1.152924', '12.845', '12.657', '0', '6.497', '0.22774', '0', '0', '0.005', '0.006159', '6.894765181', '2.40369047', '50.83600814', '0.305662189', '16.81339144', '0.133', '1.6794', '0.76415852', '0', '19.825697', '0', '1.1274', '0.00075', '57.11571962', '277.7291061', '0', '0', '0.326664064'])\n"
     ]
    }
   ],
   "source": [
    "# define a function that takes the file and column as parameters\n",
    "def sing_column(task1, column):\n",
    "    \n",
    "    with open(task1, 'r') as task1: # open read file\n",
    "        outcome = [] # create empty list to hold variables\n",
    "\n",
    "        for row in task1:\n",
    "            words = row.replace(\"\\n\",\"\").split(',') # specify dilimiter and remove new-line\n",
    "            outcome.append(words[column])   \n",
    "\n",
    "    return(outcome[0], outcome[1:])\n",
    "\n",
    "# print the desired result        \n",
    "print(sing_column('task1.csv', 2))"
   ]
  },
  {
   "cell_type": "markdown",
   "metadata": {
    "deletable": false
   },
   "source": [
    "<p style=\"color:red; font-weight:bold; font-size:xx-small\">MARK: 100%</p>\n",
    "<p style=\"color:red; font-weight:bold; font-size:xx-small\">FEEDBACK: Good solution</p>"
   ]
  },
  {
   "cell_type": "markdown",
   "metadata": {
    "deletable": false
   },
   "source": [
    "### Requirement FR6 - Develop a function to read CSV data from a file into memory"
   ]
  },
  {
   "cell_type": "code",
   "execution_count": 6,
   "metadata": {},
   "outputs": [
    {
     "name": "stdout",
     "output_type": "stream",
     "text": [
      "{'Hydropower': ['0.117', '41.64945459', '17.26791', '37.52781287', '1.76795', '0.885632595', '0.45726487', '0.284810423', '387.6868063', '5.125584584', '244.839096', '387.2508762', '23.14438369', '1202.43', '56.64701407', '7.512550207', '0', '1.6272', '0.016454789', '20.69612073', '13.48338', '0.015617162', '38.93203591', '13.27777778', '64.2234218', '16.9', '5.720179713', '0', '0.221', '13.81099543', '139.6678322', '16.4112', '10.77', '3.1074588', '0.694087982', '0.0245', '45.85205715', '80.997', '10.3295118', '0', '2.433342329', '0.45', '0.094557415', '1.791368', '24.17649672', '32.39511459', '1.6934', '0.072348', '26.32037732', '138.4962175', '0', '62.91198244', '35.20305729', '2.255678699', '1.288541272', '0.0165', '69.46684307', '1.852952842', '35.99700727', '30.76868807', '9.383758', '1.971', '12.346', '0', '17.56396055', '190.21311', '0', '0', '3.591', '4.712487886', '0.914864856', '2.920390756', '35.19825724', '6.369370161', '61.91687566', '34.80394017', '4.4661', '7.597013', '0', '59.51828075', '0', '9.900734781', '0', '5.464660531', '288.7063404', '6.868202', '72.08394993', '80.70625435'], 'Solar': ['0.603', '0.108128528', '12.081099', '1.578641473', '0.03926', '0.299208359', '0.134485968', '3.971724224', '3.137078404', '1.103538835', '0.881300118', '3.5462509', '5.118720829', '177.5', '0.011999821', '0.073591668', '0.19183', '2.3386', '0.952973', '0.037991538', '1.035739071', '0.012679515', '0.441810565', '0.1622', '10.15871272', '46.164', '3.791092002', '0.000961', '0.588876056', '0', '30.73240318', '0.01836', '0.037698887', '0.057143443', '0.022173967', '1.793230515', '23.23072906', '71.6883359', '0.1146904', '0.088143148', '0.001263953', '0.08', '0.117480937', '0.022788', '0.459692933', '2.2428', '0.9502', '3.2012', '0.098244292', '0.064488547', '0.013718674', '0.585723529', '0.01484375', '0.697743206', '3.020039802', '0.111623598', '0.675171297', '0.128029166', '2.12332226', '0.745192715', '1.249117', '0.299', '1.02', '0.009423834', '1.674', '0.57106', '0.154871783', '0.283982555', '0.585', '0.253621', '4.935234819', '9.349876912', '12.52057273', '0.205337811', '0.373100151', '1.957371429', '2.733', '4.719656655', '0.003989071', '7.890694078', '0.00696', '1.286493457', '0.9468835', '12.92181535', '97.11818182', '0', '0.010008089', '0.080231508'], 'Wind': ['0.01', '1.412699784', '16.266484', '5.900014713', '0.0822', '0.005086066', '0.117978175', '7.468573702', '48.47990705', '1.378292235', '0.977082975', '32.17005152', '3.688710149', '366', '0.043437355', '1.379085419', '0.22061', '0.6093', '13.89880328', '0.080257771', '2.438966811', '0.633888557', '0.531134615', '5.857', '28.16738103', '111.59', '6.300269103', '0.000825', '0.608', '0.004365699', '60.31116', '0.198', '0.361973742', '0', '8.390989769', '0.105269485', '17.47251773', '6.789652', '0.5412648', '0.017452186', '0.123287671', '1.145', '0.307147387', '0.097338', '0', '12.62920683', '3.8407', '10.549225', '2.046003874', '3.875881', '0', '0.497064956', '0.0079', '1.428156269', '0.574940541', '0.453', '4.80031359', '0', '1.72268087', '1.493633864', '1.152924', '12.845', '12.657', '0', '6.497', '0.22774', '0', '0', '0.005', '0.006159', '6.894765181', '2.40369047', '50.83600814', '0.305662189', '16.81339144', '0.133', '1.6794', '0.76415852', '0', '19.825697', '0', '1.1274', '0.00075', '57.11571962', '277.7291061', '0', '0', '0.326664064'], 'Other': ['0', '2.29693941', '3.539346', '4.763252129', '0.0811', '0.008019927', '0.109149431', '5.427544126', '52.88998503', '0.496261903', '0.679177831', '9.588635536', '6.737367486', '90.72346175', '2.088838157', '0.682716361', '0.05136', '4.7285', '6.119796142', '0.427967651', '0', '1.369850244', '0.23331662', '12.86168421', '8.521197318', '51.437', '0.298303335', '0.100724044', '2.371182482', '6.009414916', '30.45869682', '14.5368', '0.021740437', '0', '1.242427268', '0.115', '25.31219835', '33.6554308', '0.0024284', '0', '0.962146042', '0.47', '0.226101964', '0.05405', '1.004339878', '6.480283932', '0', '4.875860296', '8.320907599', '0.178266653', '0', '0.163131005', '0.022', '1.39699069', '0.0041', '', '2.647315578', '0.222533905', '1.667658529', '0.674414968', '11.540128', '6.331', '3.439', '0.114486339', '0.4617102', '0.4645', '0', '0.903', '1.419478261', '0.28827567', '0.530431005', '10.1747942', '7.378921565', '0.11339364', '11.85871366', '1.974071402', '2.01435', '12.31650175', '0', '9.983786807', '0', '0.218506543', '0.005983607', '35.58660245', '83.67703684', '0', '0', '0.060833333']}\n"
     ]
    }
   ],
   "source": [
    "# define a function that takes the file as parameter\n",
    "def file_to_memory(task1):\n",
    "    stations = {} # create an empty dictionany to hold list\n",
    "    \n",
    "# take in the function from task 5\n",
    "    for column in range(4): \n",
    "        title, readings = sing_column(task1, column) #equate stations key and value to our previous function\n",
    "        stations[title] = readings  \n",
    "\n",
    "    return stations\n",
    "    \n",
    "# print the desired output\n",
    "print(file_to_memory('task1.csv'))"
   ]
  },
  {
   "cell_type": "markdown",
   "metadata": {
    "deletable": false
   },
   "source": [
    "<p style=\"color:red; font-weight:bold; font-size:xx-small\">MARK: 100%</p>\n",
    "<p style=\"color:red; font-weight:bold; font-size:xx-small\">FEEDBACK: Good solution</p>"
   ]
  },
  {
   "cell_type": "markdown",
   "metadata": {
    "deletable": false
   },
   "source": [
    "### Requirement FR7 - Develop a function to generate a set of statistics for a given data file"
   ]
  },
  {
   "cell_type": "code",
   "execution_count": 7,
   "metadata": {
    "scrolled": true
   },
   "outputs": [
    {
     "name": "stdout",
     "output_type": "stream",
     "text": [
      "{'Statistics': ['mean', 'std_dev', 'max_value', 'min_value', 'count', '25th', '50th', '75th'], 'Hydropower': [48.821284107874995, 143.61156541119564, 1202.43, 0.0, 88, 0.885632595, 7.597013, 35.99700727], 'Solar': [6.617743776193181, 23.050166228825766, 177.5, 0.0, 88, 0.080231508, 0.585723529, 2.733], 'Wind': [14.380072730647731, 50.17237934719127, 366.0, 0.0, 88, 0.0822, 0.977082975, 6.789652], 'Other': [6.934232050284091, 15.838543567520071, 90.72346175, 0.0, 88, 0.100724044, 0.903, 6.331]}\n"
     ]
    }
   ],
   "source": [
    "# define a function\n",
    "def set_stats(file):\n",
    "    filememory = file_to_memory(file) # take in function from task 6\n",
    "    statistics = {} # create empty dictionary to hold list\n",
    "    statistics[\"Statistics\"] = [\"mean\",\"std_dev\",\"max_value\",\"min_value\",\"count\",\"25th\",\"50th\",\"75th\"] #list keys\n",
    "    \n",
    "    for header, readings in filememory.items(): #iterate over key, value pairs in dictionary\n",
    "        the_stats = [] # declare list to hold statistics\n",
    "        the_list = [] # delare a new list to hold coverted float value\n",
    "\n",
    "        for r in readings: # convert strings to float\n",
    "            if r == '':\n",
    "                the_list.append(0.0)\n",
    "            else:\n",
    "                the_list.append(float(r)) \n",
    "                \n",
    "        #add functions from 1-4 into dictionary\n",
    "        the_stats.append(mean(the_list))\n",
    "        the_stats.append(std_dev(the_list))\n",
    "        the_stats.append(max_value(the_list))\n",
    "        the_stats.append(min_value(the_list))\n",
    "        the_stats.append(count(the_list))\n",
    "        the_stats.append(percentile_score(the_list, 25))\n",
    "        the_stats.append(percentile_score(the_list, 50))\n",
    "        the_stats.append(percentile_score(the_list, 75))        \n",
    "        statistics[header] = the_stats     \n",
    "    return statistics\n",
    "  \n",
    "print(set_stats('task1.csv'))"
   ]
  },
  {
   "cell_type": "markdown",
   "metadata": {
    "deletable": false
   },
   "source": [
    "<p style=\"color:red; font-weight:bold; font-size:xx-small\">MARK: 100%</p>\n",
    "<p style=\"color:red; font-weight:bold; font-size:xx-small\">FEEDBACK: Good solution</p>"
   ]
  },
  {
   "cell_type": "markdown",
   "metadata": {
    "deletable": false
   },
   "source": [
    "### Requirement FR8 - Develop a function to print a custom table"
   ]
  },
  {
   "cell_type": "code",
   "execution_count": 11,
   "metadata": {},
   "outputs": [
    {
     "name": "stdout",
     "output_type": "stream",
     "text": [
      "********************************************************************************************************************\n",
      "*      Statistics      *      Hydropower      *        Solar         *         Wind         *        Other         *\n",
      "*         mean         *  48.821284107874995  *  6.617743776193181   *  14.380072730647731  *  6.934232050284091   *\n",
      "*       std_dev        *  143.61156541119564  *  23.050166228825766  *  50.17237934719127   *  15.838543567520071  *\n",
      "*      max_value       *       1202.43        *        177.5         *        366.0         *     90.72346175      *\n",
      "*      min_value       *         0.0          *         0.0          *         0.0          *         0.0          *\n",
      "*        count         *          88          *          88          *          88          *          88          *\n",
      "*         25th         *     0.885632595      *     0.080231508      *        0.0822        *     0.100724044      *\n",
      "*         50th         *       7.597013       *     0.585723529      *     0.977082975      *        0.903         *\n",
      "*         75th         *     35.99700727      *        2.733         *       6.789652       *        6.331         *\n",
      "********************************************************************************************************************\n",
      "None\n"
     ]
    }
   ],
   "source": [
    "#define a function\n",
    "def ct_table(file):\n",
    "    the_border = \"*\" * 116\n",
    "    statistics = set_stats(file) # read function to variable    \n",
    "    print(\"{:^30}\".format(the_border)) # print borders\n",
    "    \n",
    "    for header in zip(*([x] + (y) for x,y in statistics.items())): # iterate over key value pair in dictionary\n",
    "            print(\"*{:^22}*{:^22}*{:^22}*{:^22}*{:^22}*\".format(*header)) # beautify and print headers\n",
    "\n",
    "    print(\"{:^30}\".format(the_border)) #print borders below    \n",
    "   \n",
    "\n",
    "print(ct_table('task1.csv'))    "
   ]
  },
  {
   "cell_type": "markdown",
   "metadata": {
    "deletable": false
   },
   "source": [
    "<p style=\"color:red; font-weight:bold; font-size:xx-small\">MARK: 25%</p>\n",
    "<p style=\"color:red; font-weight:bold; font-size:xx-small\">FEEDBACK: There some core issues with this solution. Firstly, the table is not wellformed. Secondly, you should limit the precision of the resulting stats to 2 or 3 d.p.. Thirdly, you were asked to provide two parameters: one for border character and one for which columns to print (as a List). You have lost most of your marks for the last of these issues.</p>"
   ]
  },
  {
   "cell_type": "markdown",
   "metadata": {
    "deletable": false
   },
   "source": [
    "# Coding Standards\n",
    "<p style=\"color:red; font-weight:bold; font-size:xx-small\">MARK: 100%</p>\n",
    "<p style=\"color:red; font-weight:bold; font-size:xx-small\">FEEDBACK: Good code standards throughout except for a few non-sensical variable names such as stations and ps.</p>"
   ]
  },
  {
   "cell_type": "markdown",
   "metadata": {
    "deletable": false
   },
   "source": [
    "# Process Development Report for Task 1\n"
   ]
  },
  {
   "cell_type": "markdown",
   "metadata": {},
   "source": [
    "**TASK1 REFLECTIVE REPORT**\n",
    "\n",
    "For this assessment, we were expected to create functions that solved the problems while only using python built-in functions, by creating our algorithms. This was aimed at helping us gain a deeper understanding of the task and the course altogether.  We were informed by our tutor that the questions might seem easy, but they could be tricky. The note of caution made me read both instructions and questions carefully irrespective of how simple they may seem initially, and this helped me through solving this assessment. \n",
    "\n",
    "Initially, I felt I could round up the entire part of this task in a week or less because it seemed like basic python fundamentals, but as I progressed through the task, I realized the task was needing more effort to complete. I started to feel discouraged by the time I reached task5, I knew I had to put in more work if I wanted to complete this task. By the time I had completed the entire task, I was feeling more confident about my pure python programming skills.\n",
    "\n",
    "Creating functions was particularly interesting for me as this task helped me realize I could solve any problem if I was able to develop an algorithm for it. I learned to define multiple functions within the same solution and create functions that took in previously defined functions. My initial attempt at question 5 resulted in printing the column name and the column content, but a further evaluation of the question helped me realize that the result printed should have the column name as a string and the column content in a list, and this same concept needed to be applied a couple more times through the assessment.\n",
    "\n",
    "For questions one (1) to four (4), I first figured out the formula required and used it to derive a solution.  For example, where I needed to find an average, I had to first know how to calculate average, then break down this formula into simple steps my system could understand, so I would write a code that teaches my system how to also calculate this average.  In questions five (5) and six (6), I used with open function to read my CSV file and converted the list into a dictionary. Solving for questions (7) and (8), I created a dictionary that takes in all functions defined from questions 1 – 4 and used these functions to calculate the statistics of my data from task 6. Finally, I printed my result into a table format.\n",
    "\n",
    " In conclusion, I need to practice more if I want to be better at solving tasks like these efficiently. I learned that I became more conversant with codes the more I used them. \n",
    " \n",
    "One thing I could have done better was to remove my header and include a border that separated the header from the rest of the data. When working on a similar project in the future, I will first perform extensive research on the given task. \n",
    "\n"
   ]
  },
  {
   "cell_type": "markdown",
   "metadata": {
    "deletable": false
   },
   "source": [
    "<p style=\"color:red; font-weight:bold; font-size:xx-small\">MARK: 90%</p>\n",
    "<p style=\"color:red; font-weight:bold; font-size:xx-small\">FEEDBACK: This is a good reflective report which focuses on your experiences and what you learned about your approach. One aspect that should have been added was more information about alternative approaches you could have taken to solving of the problems. There is some of this here, but there should be more.</p>"
   ]
  },
  {
   "cell_type": "code",
   "execution_count": null,
   "metadata": {},
   "outputs": [],
   "source": []
  }
 ],
 "metadata": {
  "kernelspec": {
   "display_name": "Python 3",
   "language": "python",
   "name": "python3"
  },
  "language_info": {
   "codemirror_mode": {
    "name": "ipython",
    "version": 3
   },
   "file_extension": ".py",
   "mimetype": "text/x-python",
   "name": "python",
   "nbconvert_exporter": "python",
   "pygments_lexer": "ipython3",
   "version": "3.8.5"
  }
 },
 "nbformat": 4,
 "nbformat_minor": 4
}
